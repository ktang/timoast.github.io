{
 "cells": [
  {
   "cell_type": "markdown",
   "metadata": {},
   "source": [
    "# Generating a report from Illumina sequencing run"
   ]
  },
  {
   "cell_type": "markdown",
   "metadata": {},
   "source": [
    "For all the Illumina sequencing we've been doing, I keep a google spreadsheet where I record some metrics from each run, such as the date, number of reads passed filter, the phiX spike-in percentage and read error rates. To do this, I've been manually searching for data on basespace and copying it into the spreadsheet. This process is both annoying and error prone, as it's easy to mix up numbers when copying. These metrics are stored under the InterOp folder in the run directory, but these are all binary files, and until now I'd given up trying to parse them. Today I learned of the existence of the Illumina [interop](https://github.com/Illumina/interop) C++ library to parse these files. More importantly, this C++ library has a python API, and so is actually quite easy to use to pull info out of these interop files. \n",
    "\n",
    "Here I show how to access some basic run metrics using the interop files from the run, and do something useful with this data."
   ]
  },
  {
   "cell_type": "markdown",
   "metadata": {},
   "source": [
    "## Example from Illumina tutorial"
   ]
  },
  {
   "cell_type": "markdown",
   "metadata": {},
   "source": [
    "This example is mostly taken from the python [tutorial](https://github.com/Illumina/interop/blob/master/docs/src/Tutorial_01_Intro.ipynb) available on Illumina's GitHub page."
   ]
  },
  {
   "cell_type": "code",
   "execution_count": 1,
   "metadata": {
    "collapsed": true
   },
   "outputs": [],
   "source": [
    "from interop import py_interop_run_metrics, py_interop_run, py_interop_summary"
   ]
  },
  {
   "cell_type": "code",
   "execution_count": 23,
   "metadata": {
    "collapsed": true
   },
   "outputs": [],
   "source": [
    "import pandas as pd"
   ]
  },
  {
   "cell_type": "code",
   "execution_count": 61,
   "metadata": {
    "collapsed": true
   },
   "outputs": [],
   "source": [
    "import numpy as np"
   ]
  },
  {
   "cell_type": "code",
   "execution_count": 29,
   "metadata": {
    "collapsed": true
   },
   "outputs": [],
   "source": [
    "run_folder = '/Users/timstuart/Desktop/interop'"
   ]
  },
  {
   "cell_type": "code",
   "execution_count": 30,
   "metadata": {
    "collapsed": true
   },
   "outputs": [],
   "source": [
    "run_metrics = py_interop_run_metrics.run_metrics()"
   ]
  },
  {
   "cell_type": "code",
   "execution_count": 31,
   "metadata": {
    "collapsed": false
   },
   "outputs": [],
   "source": [
    "run_folder = run_metrics.read(run_folder, 0)"
   ]
  },
  {
   "cell_type": "code",
   "execution_count": 32,
   "metadata": {
    "collapsed": true
   },
   "outputs": [],
   "source": [
    "summary = py_interop_summary.run_summary()"
   ]
  },
  {
   "cell_type": "code",
   "execution_count": 33,
   "metadata": {
    "collapsed": true
   },
   "outputs": [],
   "source": [
    "py_interop_summary.summarize_run_metrics(run_metrics, summary)"
   ]
  },
  {
   "cell_type": "code",
   "execution_count": 36,
   "metadata": {
    "collapsed": false
   },
   "outputs": [
    {
     "data": {
      "text/html": [
       "<div>\n",
       "<table border=\"1\" class=\"dataframe\">\n",
       "  <thead>\n",
       "    <tr style=\"text-align: right;\">\n",
       "      <th></th>\n",
       "      <th>Yield Total (G)</th>\n",
       "      <th>Projected Yield (G)</th>\n",
       "      <th>% Aligned</th>\n",
       "    </tr>\n",
       "  </thead>\n",
       "  <tbody>\n",
       "    <tr>\n",
       "      <th>Non-Indexed Total</th>\n",
       "      <td>83.205124</td>\n",
       "      <td>83.205132</td>\n",
       "      <td>18.244617</td>\n",
       "    </tr>\n",
       "    <tr>\n",
       "      <th>Total</th>\n",
       "      <td>87.373581</td>\n",
       "      <td>87.373596</td>\n",
       "      <td>18.244617</td>\n",
       "    </tr>\n",
       "  </tbody>\n",
       "</table>\n",
       "</div>"
      ],
      "text/plain": [
       "                   Yield Total (G)  Projected Yield (G)  % Aligned\n",
       "Non-Indexed Total        83.205124            83.205132  18.244617\n",
       "Total                    87.373581            87.373596  18.244617"
      ]
     },
     "execution_count": 36,
     "metadata": {},
     "output_type": "execute_result"
    }
   ],
   "source": [
    "columns = ( ('Yield Total (G)', 'yield_g'),\n",
    "           ('Projected Yield (G)', 'projected_yield_g'),\n",
    "           ('% Aligned', 'percent_aligned'))\n",
    "rows = [('Non-Indexed Total', summary.nonindex_summary()),\n",
    "        ('Total', summary.total_summary())]\n",
    "d = []\n",
    "for label, func in columns:\n",
    "    d.append( (label, pd.Series([getattr(r[1], func)() for r in rows], index=[r[0] for r in rows])))\n",
    "\n",
    "pd.DataFrame.from_items(d)"
   ]
  },
  {
   "cell_type": "code",
   "execution_count": 37,
   "metadata": {
    "collapsed": false
   },
   "outputs": [
    {
     "data": {
      "text/html": [
       "<div>\n",
       "<table border=\"1\" class=\"dataframe\">\n",
       "  <thead>\n",
       "    <tr style=\"text-align: right;\">\n",
       "      <th></th>\n",
       "      <th>Yield Total (G)</th>\n",
       "      <th>Projected Yield (G)</th>\n",
       "      <th>% Aligned</th>\n",
       "    </tr>\n",
       "  </thead>\n",
       "  <tbody>\n",
       "    <tr>\n",
       "      <th>Read  1</th>\n",
       "      <td>14.889029</td>\n",
       "      <td>14.889029</td>\n",
       "      <td>19.393942</td>\n",
       "    </tr>\n",
       "    <tr>\n",
       "      <th>Read (I)2</th>\n",
       "      <td>4.168461</td>\n",
       "      <td>4.168461</td>\n",
       "      <td>0.000000</td>\n",
       "    </tr>\n",
       "    <tr>\n",
       "      <th>Read  3</th>\n",
       "      <td>68.316093</td>\n",
       "      <td>68.316101</td>\n",
       "      <td>17.095293</td>\n",
       "    </tr>\n",
       "  </tbody>\n",
       "</table>\n",
       "</div>"
      ],
      "text/plain": [
       "           Yield Total (G)  Projected Yield (G)  % Aligned\n",
       "Read  1          14.889029            14.889029  19.393942\n",
       "Read (I)2         4.168461             4.168461   0.000000\n",
       "Read  3          68.316093            68.316101  17.095293"
      ]
     },
     "execution_count": 37,
     "metadata": {},
     "output_type": "execute_result"
    }
   ],
   "source": [
    "rows = [(\"Read %s%d\"%(\"(I)\" if summary.at(i).read().is_index()  else \" \", summary.at(i).read().number()), summary.at(i).summary()) for i in range(summary.size())]\n",
    "d = []\n",
    "for label, func in columns:\n",
    "    d.append( (label, pd.Series([getattr(r[1], func)() for r in rows], index=[r[0] for r in rows])))\n",
    "\n",
    "pd.DataFrame.from_items(d)"
   ]
  },
  {
   "cell_type": "markdown",
   "metadata": {},
   "source": [
    "## Extracting total reads passed filter"
   ]
  },
  {
   "cell_type": "markdown",
   "metadata": {},
   "source": [
    "First get a summary by lane"
   ]
  },
  {
   "cell_type": "code",
   "execution_count": 84,
   "metadata": {
    "collapsed": false
   },
   "outputs": [],
   "source": [
    "summary = py_interop_summary.index_lane_summary()"
   ]
  },
  {
   "cell_type": "markdown",
   "metadata": {},
   "source": [
    "Setting lane number to 0 will average over all the lanes (see github issue [here](https://github.com/Illumina/interop/issues/146#issuecomment-331475939))"
   ]
  },
  {
   "cell_type": "code",
   "execution_count": 85,
   "metadata": {
    "collapsed": false
   },
   "outputs": [
    {
     "data": {
      "text/plain": [
       "75.96920013427734"
      ]
     },
     "execution_count": 85,
     "metadata": {},
     "output_type": "execute_result"
    }
   ],
   "source": [
    "py_interop_summary.summarize_index_metrics(run_metrics,0,summary)\n",
    "summary.total_fraction_mapped_reads()"
   ]
  },
  {
   "cell_type": "markdown",
   "metadata": {},
   "source": [
    "## Extracting read 2 error "
   ]
  },
  {
   "cell_type": "code",
   "execution_count": null,
   "metadata": {
    "collapsed": true
   },
   "outputs": [],
   "source": []
  }
 ],
 "metadata": {
  "kernelspec": {
   "display_name": "Python 3",
   "language": "python",
   "name": "python3"
  },
  "language_info": {
   "codemirror_mode": {
    "name": "ipython",
    "version": 3
   },
   "file_extension": ".py",
   "mimetype": "text/x-python",
   "name": "python",
   "nbconvert_exporter": "python",
   "pygments_lexer": "ipython3",
   "version": "3.6.0"
  }
 },
 "nbformat": 4,
 "nbformat_minor": 2
}
